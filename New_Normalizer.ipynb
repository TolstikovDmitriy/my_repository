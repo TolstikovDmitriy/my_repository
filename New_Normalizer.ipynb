{
 "cells": [
  {
   "cell_type": "code",
   "execution_count": null,
   "metadata": {
    "id": "0gJrDF9l5HjA"
   },
   "outputs": [],
   "source": [
    "import numpy as np\n",
    "import pandas as pd\n",
    "import matplotlib.pyplot as plt\n",
    "import cv2\n",
    "\n",
    "!pip install albumentations\n",
    "import albumentations as A\n",
    "from albumentations.pytorch import ToTensorV2\n",
    "\n",
    "import torch\n",
    "import torch.nn as nn\n",
    "from torch.utils.data import Dataset\n",
    "\n",
    "from torchvision import transforms\n",
    "from torchvision.models import resnet50"
   ]
  },
  {
   "cell_type": "markdown",
   "metadata": {
    "id": "0LI7IxmS6y9J"
   },
   "source": [
    "# 1. Класс НОРМАЛИЗАТОРА"
   ]
  },
  {
   "cell_type": "code",
   "execution_count": 20,
   "metadata": {
    "id": "sV-z-xem9zIi"
   },
   "outputs": [],
   "source": [
    "class SimpleCNNModel(nn.Module) :\n",
    "    def __init__(self):\n",
    "        super().__init__()\n",
    "        self.model = resnet50(pretrained=True)\n",
    "        self.model.fc = nn.Linear(2048, 68*2)\n",
    "\n",
    "    def forward(self, x) :\n",
    "        output = self.model(x)\n",
    "        return output"
   ]
  },
  {
   "cell_type": "code",
   "execution_count": 25,
   "metadata": {
    "id": "1w-kPEle5Kzu"
   },
   "outputs": [],
   "source": [
    "class Normalizer():\n",
    "    def __init__(self, model, img):\n",
    "        self.model = model\n",
    "        self.transform = A.Compose([\n",
    "            A.Resize(220, 220),\n",
    "            ToTensorV2()\n",
    "        ])\n",
    "\n",
    "        self.img = self.transform(image=img)['image']\n",
    "\n",
    "\n",
    "    def coord_landmarks(self):\n",
    "        predict = self.model(torch.tensor(np.expand_dims(self.img, axis=0)).float())\n",
    "\n",
    "        num_landmarks = [i for i in range(16, -1, -1)] + [i for i in range(17, 20)] + [i for i in range(24, 27)] + [16]\n",
    "\n",
    "        x_pred = predict.detach().numpy()[0, ::2][num_landmarks]\n",
    "        y_pred = predict.detach().numpy()[0, 1::2][num_landmarks]\n",
    "\n",
    "        x_pred = x_pred.reshape(-1, 1)\n",
    "        y_pred = y_pred.reshape(-1, 1)\n",
    "\n",
    "        coords = np.concatenate((x_pred, y_pred), axis=1)\n",
    "\n",
    "        return coords\n",
    "\n",
    "\n",
    "    def show_landmarks(self):\n",
    "        coords = self.coord_landmarks()\n",
    "        x = coords[:, 0]\n",
    "        y = coords[:, 1]\n",
    "        size_points = 10\n",
    "\n",
    "        img = self.img.numpy()[0]\n",
    "\n",
    "        plt.scatter(x, y, s=size_points)\n",
    "        plt.imshow(img, cmap='gray')\n",
    "\n",
    "\n",
    "    def normalizer(self):\n",
    "        coords = self.coord_landmarks().astype(int)\n",
    "        self.img = self.img.numpy()[0]\n",
    "\n",
    "        mask = np.zeros((self.img.shape[0], self.img.shape[1]))\n",
    "        mask = cv2.fillConvexPoly(mask, coords, (255, 255, 255))\n",
    "        mask = mask.astype(bool)\n",
    "\n",
    "        out = np.zeros_like(self.img)\n",
    "        out[mask] = self.img[mask]\n",
    "\n",
    "        plt.imshow(out, cmap='gray')\n",
    "        plt.axis('off')\n",
    "\n",
    "        return out\n"
   ]
  },
  {
   "cell_type": "markdown",
   "metadata": {
    "id": "5Gbml4ys7Qyb"
   },
   "source": [
    "# 2. Проверка нормализатора"
   ]
  },
  {
   "cell_type": "code",
   "execution_count": 26,
   "metadata": {
    "id": "nGUvdTlHBTAl"
   },
   "outputs": [],
   "source": [
    "model = torch.load('/content/drive/MyDrive/model')"
   ]
  },
  {
   "cell_type": "code",
   "execution_count": 27,
   "metadata": {
    "id": "w5MMf-A-OBjl"
   },
   "outputs": [],
   "source": [
    "def img_processing(img_path):\n",
    "    img = cv2.imread(img_path)\n",
    "    return img\n"
   ]
  },
  {
   "cell_type": "code",
   "execution_count": 28,
   "metadata": {
    "colab": {
     "base_uri": "https://localhost:8080/",
     "height": 650
    },
    "id": "r7G5izmr7Tcx",
    "outputId": "68ca9118-f5da-4459-8420-f2567379d73c"
   },
   "outputs": [
    {
     "data": {
      "text/html": [
       "<style>\n",
       "      .ndarray_repr .ndarray_raw_data {\n",
       "        display: none;\n",
       "      }\n",
       "      .ndarray_repr.show_array .ndarray_raw_data {\n",
       "        display: block;\n",
       "      }\n",
       "      .ndarray_repr.show_array .ndarray_image_preview {\n",
       "        display: none;\n",
       "      }\n",
       "      </style>\n",
       "      <div id=\"id-778074b5-b591-43b4-bff9-83fe8be64fd7\" class=\"ndarray_repr\"><pre>ndarray (220, 220) <button style=\"padding: 0 2px;\">show data</button></pre><img src=\"data:image/png;base64,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\" class=\"ndarray_image_preview\" /><pre class=\"ndarray_raw_data\">array([[0, 0, 0, ..., 0, 0, 0],\n",
       "       [0, 0, 0, ..., 0, 0, 0],\n",
       "       [0, 0, 0, ..., 0, 0, 0],\n",
       "       ...,\n",
       "       [0, 0, 0, ..., 0, 0, 0],\n",
       "       [0, 0, 0, ..., 0, 0, 0],\n",
       "       [0, 0, 0, ..., 0, 0, 0]], dtype=uint8)</pre></div><script>\n",
       "      (() => {\n",
       "      const titles = ['show data', 'hide data'];\n",
       "      let index = 0\n",
       "      document.querySelector('#id-778074b5-b591-43b4-bff9-83fe8be64fd7 button').onclick = (e) => {\n",
       "        document.querySelector('#id-778074b5-b591-43b4-bff9-83fe8be64fd7').classList.toggle('show_array');\n",
       "        index = (++index) % 2;\n",
       "        document.querySelector('#id-778074b5-b591-43b4-bff9-83fe8be64fd7 button').textContent = titles[index];\n",
       "        e.preventDefault();\n",
       "        e.stopPropagation();\n",
       "      }\n",
       "      })();\n",
       "    </script>"
      ],
      "text/plain": [
       "array([[0, 0, 0, ..., 0, 0, 0],\n",
       "       [0, 0, 0, ..., 0, 0, 0],\n",
       "       [0, 0, 0, ..., 0, 0, 0],\n",
       "       ...,\n",
       "       [0, 0, 0, ..., 0, 0, 0],\n",
       "       [0, 0, 0, ..., 0, 0, 0],\n",
       "       [0, 0, 0, ..., 0, 0, 0]], dtype=uint8)"
      ]
     },
     "execution_count": 28,
     "metadata": {},
     "output_type": "execute_result"
    },
    {
     "data": {
      "image/png": "[encoded data removed]",
      "text/plain": [
       "<Figure size 640x480 with 1 Axes>"
      ]
     },
     "metadata": {},
     "output_type": "display_data"
    }
   ],
   "source": [
    "img_path = '/content/drive/MyDrive/IMG_20230913_153416.jpg'\n",
    "img = img_processing(img_path)\n",
    "\n",
    "norm = Normalizer(model, img)\n",
    "norm.normalizer()"
   ]
  },
  {
   "cell_type": "code",
   "execution_count": 7,
   "metadata": {
    "id": "e72TOSth9dTM"
   },
   "outputs": [],
   "source": []
  }
 ],
 "metadata": {
  "colab": {
   "provenance": []
  },
  "kernelspec": {
   "display_name": "Python 3 (ipykernel)",
   "language": "python",
   "name": "python3"
  },
  "language_info": {
   "codemirror_mode": {
    "name": "ipython",
    "version": 3
   },
   "file_extension": ".py",
   "mimetype": "text/x-python",
   "name": "python",
   "nbconvert_exporter": "python",
   "pygments_lexer": "ipython3",
   "version": "3.11.5"
  }
 },
 "nbformat": 4,
 "nbformat_minor": 1
}
