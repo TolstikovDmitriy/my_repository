{
 "cells": [
  {
   "cell_type": "code",
   "execution_count": 8,
   "id": "6f2bee11",
   "metadata": {},
   "outputs": [],
   "source": [
    "import torch\n",
    "import torchvision\n",
    "import torch.nn as nn\n",
    "import torch.nn.functional as F\n",
    "import torchvision\n",
    "from torchvision.datasets import ImageFolder\n",
    "from torch.utils.data import Dataset, DataLoader, random_split\n",
    "import torchvision.transforms as transforms\n",
    "from sklearn.decomposition import PCA\n",
    "import numpy as np\n",
    "import matplotlib.pyplot as plt\n",
    "\n",
    "from tqdm import tqdm\n",
    "\n",
    "from PIL import Image\n",
    "\n",
    "import os"
   ]
  },
  {
   "cell_type": "code",
   "execution_count": 9,
   "id": "ae2d331b",
   "metadata": {},
   "outputs": [],
   "source": [
    "config = {\n",
    "    'batch_size'    : 4,\n",
    "    'total_epochs'  : 100  ,\n",
    "    'learning_rate' : 0.001,     \n",
    "    'num_classes'   : 1286,    \n",
    "    'input_channels': 1\n",
    "}"
   ]
  },
  {
   "cell_type": "code",
   "execution_count": 10,
   "id": "45c57428",
   "metadata": {},
   "outputs": [
    {
     "ename": "FileNotFoundError",
     "evalue": "[WinError 3] Системе не удается найти указанный путь: 'Extracted Faces/train_data'",
     "output_type": "error",
     "traceback": [
      "\u001b[1;31m---------------------------------------------------------------------------\u001b[0m",
      "\u001b[1;31mFileNotFoundError\u001b[0m                         Traceback (most recent call last)",
      "Cell \u001b[1;32mIn[10], line 10\u001b[0m\n\u001b[0;32m      1\u001b[0m transform \u001b[38;5;241m=\u001b[39m transforms\u001b[38;5;241m.\u001b[39mCompose(\n\u001b[0;32m      2\u001b[0m [            \n\u001b[0;32m      3\u001b[0m     transforms\u001b[38;5;241m.\u001b[39mToTensor(), \n\u001b[1;32m   (...)\u001b[0m\n\u001b[0;32m      7\u001b[0m     \n\u001b[0;32m      8\u001b[0m ])\n\u001b[1;32m---> 10\u001b[0m train_data \u001b[38;5;241m=\u001b[39m ImageFolder(root\u001b[38;5;241m=\u001b[39m\u001b[38;5;124m'\u001b[39m\u001b[38;5;124mExtracted Faces/train_data\u001b[39m\u001b[38;5;124m'\u001b[39m, transform\u001b[38;5;241m=\u001b[39mtransform)\n\u001b[0;32m     11\u001b[0m test_data \u001b[38;5;241m=\u001b[39m ImageFolder(root\u001b[38;5;241m=\u001b[39m\u001b[38;5;124m'\u001b[39m\u001b[38;5;124mExtracted Faces/test_data\u001b[39m\u001b[38;5;124m'\u001b[39m, transform\u001b[38;5;241m=\u001b[39mtransform)\n",
      "File \u001b[1;32mD:\\Anaconda\\Lib\\site-packages\\torchvision\\datasets\\folder.py:309\u001b[0m, in \u001b[0;36mImageFolder.__init__\u001b[1;34m(self, root, transform, target_transform, loader, is_valid_file)\u001b[0m\n\u001b[0;32m    301\u001b[0m \u001b[38;5;28;01mdef\u001b[39;00m \u001b[38;5;21m__init__\u001b[39m(\n\u001b[0;32m    302\u001b[0m     \u001b[38;5;28mself\u001b[39m,\n\u001b[0;32m    303\u001b[0m     root: \u001b[38;5;28mstr\u001b[39m,\n\u001b[1;32m   (...)\u001b[0m\n\u001b[0;32m    307\u001b[0m     is_valid_file: Optional[Callable[[\u001b[38;5;28mstr\u001b[39m], \u001b[38;5;28mbool\u001b[39m]] \u001b[38;5;241m=\u001b[39m \u001b[38;5;28;01mNone\u001b[39;00m,\n\u001b[0;32m    308\u001b[0m ):\n\u001b[1;32m--> 309\u001b[0m     \u001b[38;5;28msuper\u001b[39m()\u001b[38;5;241m.\u001b[39m\u001b[38;5;21m__init__\u001b[39m(\n\u001b[0;32m    310\u001b[0m         root,\n\u001b[0;32m    311\u001b[0m         loader,\n\u001b[0;32m    312\u001b[0m         IMG_EXTENSIONS \u001b[38;5;28;01mif\u001b[39;00m is_valid_file \u001b[38;5;129;01mis\u001b[39;00m \u001b[38;5;28;01mNone\u001b[39;00m \u001b[38;5;28;01melse\u001b[39;00m \u001b[38;5;28;01mNone\u001b[39;00m,\n\u001b[0;32m    313\u001b[0m         transform\u001b[38;5;241m=\u001b[39mtransform,\n\u001b[0;32m    314\u001b[0m         target_transform\u001b[38;5;241m=\u001b[39mtarget_transform,\n\u001b[0;32m    315\u001b[0m         is_valid_file\u001b[38;5;241m=\u001b[39mis_valid_file,\n\u001b[0;32m    316\u001b[0m     )\n\u001b[0;32m    317\u001b[0m     \u001b[38;5;28mself\u001b[39m\u001b[38;5;241m.\u001b[39mimgs \u001b[38;5;241m=\u001b[39m \u001b[38;5;28mself\u001b[39m\u001b[38;5;241m.\u001b[39msamples\n",
      "File \u001b[1;32mD:\\Anaconda\\Lib\\site-packages\\torchvision\\datasets\\folder.py:144\u001b[0m, in \u001b[0;36mDatasetFolder.__init__\u001b[1;34m(self, root, loader, extensions, transform, target_transform, is_valid_file)\u001b[0m\n\u001b[0;32m    134\u001b[0m \u001b[38;5;28;01mdef\u001b[39;00m \u001b[38;5;21m__init__\u001b[39m(\n\u001b[0;32m    135\u001b[0m     \u001b[38;5;28mself\u001b[39m,\n\u001b[0;32m    136\u001b[0m     root: \u001b[38;5;28mstr\u001b[39m,\n\u001b[1;32m   (...)\u001b[0m\n\u001b[0;32m    141\u001b[0m     is_valid_file: Optional[Callable[[\u001b[38;5;28mstr\u001b[39m], \u001b[38;5;28mbool\u001b[39m]] \u001b[38;5;241m=\u001b[39m \u001b[38;5;28;01mNone\u001b[39;00m,\n\u001b[0;32m    142\u001b[0m ) \u001b[38;5;241m-\u001b[39m\u001b[38;5;241m>\u001b[39m \u001b[38;5;28;01mNone\u001b[39;00m:\n\u001b[0;32m    143\u001b[0m     \u001b[38;5;28msuper\u001b[39m()\u001b[38;5;241m.\u001b[39m\u001b[38;5;21m__init__\u001b[39m(root, transform\u001b[38;5;241m=\u001b[39mtransform, target_transform\u001b[38;5;241m=\u001b[39mtarget_transform)\n\u001b[1;32m--> 144\u001b[0m     classes, class_to_idx \u001b[38;5;241m=\u001b[39m \u001b[38;5;28mself\u001b[39m\u001b[38;5;241m.\u001b[39mfind_classes(\u001b[38;5;28mself\u001b[39m\u001b[38;5;241m.\u001b[39mroot)\n\u001b[0;32m    145\u001b[0m     samples \u001b[38;5;241m=\u001b[39m \u001b[38;5;28mself\u001b[39m\u001b[38;5;241m.\u001b[39mmake_dataset(\u001b[38;5;28mself\u001b[39m\u001b[38;5;241m.\u001b[39mroot, class_to_idx, extensions, is_valid_file)\n\u001b[0;32m    147\u001b[0m     \u001b[38;5;28mself\u001b[39m\u001b[38;5;241m.\u001b[39mloader \u001b[38;5;241m=\u001b[39m loader\n",
      "File \u001b[1;32mD:\\Anaconda\\Lib\\site-packages\\torchvision\\datasets\\folder.py:218\u001b[0m, in \u001b[0;36mDatasetFolder.find_classes\u001b[1;34m(self, directory)\u001b[0m\n\u001b[0;32m    191\u001b[0m \u001b[38;5;28;01mdef\u001b[39;00m \u001b[38;5;21mfind_classes\u001b[39m(\u001b[38;5;28mself\u001b[39m, directory: \u001b[38;5;28mstr\u001b[39m) \u001b[38;5;241m-\u001b[39m\u001b[38;5;241m>\u001b[39m Tuple[List[\u001b[38;5;28mstr\u001b[39m], Dict[\u001b[38;5;28mstr\u001b[39m, \u001b[38;5;28mint\u001b[39m]]:\n\u001b[0;32m    192\u001b[0m \u001b[38;5;250m    \u001b[39m\u001b[38;5;124;03m\"\"\"Find the class folders in a dataset structured as follows::\u001b[39;00m\n\u001b[0;32m    193\u001b[0m \n\u001b[0;32m    194\u001b[0m \u001b[38;5;124;03m        directory/\u001b[39;00m\n\u001b[1;32m   (...)\u001b[0m\n\u001b[0;32m    216\u001b[0m \u001b[38;5;124;03m        (Tuple[List[str], Dict[str, int]]): List of all classes and dictionary mapping each class to an index.\u001b[39;00m\n\u001b[0;32m    217\u001b[0m \u001b[38;5;124;03m    \"\"\"\u001b[39;00m\n\u001b[1;32m--> 218\u001b[0m     \u001b[38;5;28;01mreturn\u001b[39;00m find_classes(directory)\n",
      "File \u001b[1;32mD:\\Anaconda\\Lib\\site-packages\\torchvision\\datasets\\folder.py:40\u001b[0m, in \u001b[0;36mfind_classes\u001b[1;34m(directory)\u001b[0m\n\u001b[0;32m     35\u001b[0m \u001b[38;5;28;01mdef\u001b[39;00m \u001b[38;5;21mfind_classes\u001b[39m(directory: \u001b[38;5;28mstr\u001b[39m) \u001b[38;5;241m-\u001b[39m\u001b[38;5;241m>\u001b[39m Tuple[List[\u001b[38;5;28mstr\u001b[39m], Dict[\u001b[38;5;28mstr\u001b[39m, \u001b[38;5;28mint\u001b[39m]]:\n\u001b[0;32m     36\u001b[0m \u001b[38;5;250m    \u001b[39m\u001b[38;5;124;03m\"\"\"Finds the class folders in a dataset.\u001b[39;00m\n\u001b[0;32m     37\u001b[0m \n\u001b[0;32m     38\u001b[0m \u001b[38;5;124;03m    See :class:`DatasetFolder` for details.\u001b[39;00m\n\u001b[0;32m     39\u001b[0m \u001b[38;5;124;03m    \"\"\"\u001b[39;00m\n\u001b[1;32m---> 40\u001b[0m     classes \u001b[38;5;241m=\u001b[39m \u001b[38;5;28msorted\u001b[39m(entry\u001b[38;5;241m.\u001b[39mname \u001b[38;5;28;01mfor\u001b[39;00m entry \u001b[38;5;129;01min\u001b[39;00m os\u001b[38;5;241m.\u001b[39mscandir(directory) \u001b[38;5;28;01mif\u001b[39;00m entry\u001b[38;5;241m.\u001b[39mis_dir())\n\u001b[0;32m     41\u001b[0m     \u001b[38;5;28;01mif\u001b[39;00m \u001b[38;5;129;01mnot\u001b[39;00m classes:\n\u001b[0;32m     42\u001b[0m         \u001b[38;5;28;01mraise\u001b[39;00m \u001b[38;5;167;01mFileNotFoundError\u001b[39;00m(\u001b[38;5;124mf\u001b[39m\u001b[38;5;124m\"\u001b[39m\u001b[38;5;124mCouldn\u001b[39m\u001b[38;5;124m'\u001b[39m\u001b[38;5;124mt find any class folder in \u001b[39m\u001b[38;5;132;01m{\u001b[39;00mdirectory\u001b[38;5;132;01m}\u001b[39;00m\u001b[38;5;124m.\u001b[39m\u001b[38;5;124m\"\u001b[39m)\n",
      "\u001b[1;31mFileNotFoundError\u001b[0m: [WinError 3] Системе не удается найти указанный путь: 'Extracted Faces/train_data'"
     ]
    }
   ],
   "source": [
    "transform = transforms.Compose(\n",
    "[            \n",
    "    transforms.ToTensor(), \n",
    "    transforms.Grayscale(),\n",
    "     \n",
    "    transforms.Resize((128, 128))  \n",
    "    \n",
    "])\n",
    "\n",
    "train_data = ImageFolder(root='Extracted Faces/train_data', transform=transform)\n",
    "test_data = ImageFolder(root='Extracted Faces/test_data', transform=transform)  "
   ]
  },
  {
   "cell_type": "code",
   "execution_count": 11,
   "id": "05e9e180",
   "metadata": {},
   "outputs": [
    {
     "ename": "NameError",
     "evalue": "name 'train_data' is not defined",
     "output_type": "error",
     "traceback": [
      "\u001b[1;31m---------------------------------------------------------------------------\u001b[0m",
      "\u001b[1;31mNameError\u001b[0m                                 Traceback (most recent call last)",
      "Cell \u001b[1;32mIn[11], line 1\u001b[0m\n\u001b[1;32m----> 1\u001b[0m train_data, val_data \u001b[38;5;241m=\u001b[39m random_split(train_data, [\u001b[38;5;241m0.8\u001b[39m, \u001b[38;5;241m0.2\u001b[39m])\n",
      "\u001b[1;31mNameError\u001b[0m: name 'train_data' is not defined"
     ]
    }
   ],
   "source": [
    "train_data, val_data = random_split(train_data, [0.8, 0.2])  "
   ]
  },
  {
   "cell_type": "code",
   "execution_count": 23,
   "id": "76fad481",
   "metadata": {},
   "outputs": [],
   "source": [
    "train_loader = DataLoader(dataset=train_data, batch_size=config['batch_size'], shuffle=True)\n",
    "val_loader = DataLoader(dataset=val_data, batch_size=config['batch_size'], shuffle=False)\n",
    "test_loader = DataLoader(dataset=test_data, batch_size=config['batch_size'], shuffle=False)\n",
    "\n",
    " "
   ]
  },
  {
   "cell_type": "markdown",
   "id": "244cdd3c",
   "metadata": {},
   "source": [
    "Нахождение среднего значения и стандартого отклонения"
   ]
  },
  {
   "cell_type": "code",
   "execution_count": 243,
   "id": "17625754",
   "metadata": {},
   "outputs": [
    {
     "name": "stdout",
     "output_type": "stream",
     "text": [
      "Среднее значение по каналам (RGB): tensor([0.4597])\n",
      "Стандартное отклонение по каналам (RGB): tensor([0.2162])\n"
     ]
    }
   ],
   "source": [
    "\n",
    "mean = torch.zeros(1)\n",
    "std = torch.zeros(1)\n",
    "\n",
    " \n",
    "for images, _ in train_loader:\n",
    "    for i in range(1):   \n",
    "        mean[i] += torch.mean(images[:, i, :, :])\n",
    "        std[i] += torch.std(images[:, i, :, :])\n",
    "\n",
    "\n",
    "mean /= len(train_loader)\n",
    "std /= len(train_loader)\n",
    "\n",
    "print(\"Среднее значение по каналам (RGB):\", mean)\n",
    "print(\"Стандартное отклонение по каналам (RGB):\", std)\n"
   ]
  },
  {
   "cell_type": "code",
   "execution_count": 12,
   "id": "fa7632e2",
   "metadata": {},
   "outputs": [],
   "source": [
    "class ExtractorNN(nn.Module):\n",
    "    def __init__(self, input_channels):\n",
    "        super().__init__()\n",
    "        self.act = nn.LeakyReLU()\n",
    "        \n",
    "        self.conv1 = nn.Conv2d(input_channels, 32, kernel_size=3, stride=1, padding=0)\n",
    "        self.conv2 = nn.Conv2d(32, 64, kernel_size=3, stride=1, padding=0)        \n",
    "        self.conv3 = nn.Conv2d(64, 128, kernel_size=3, stride=1, padding=0)           \n",
    "        \n",
    "        self.pool = nn.MaxPool2d(kernel_size=2, stride=2, padding=1)\n",
    "         \n",
    "        self.flatten = nn.Flatten()\n",
    "        self.fc1 = nn.Linear(128 * 16 * 16, 256)\n",
    "        self.fc2 = nn.Linear(256, 512)\n",
    "        self.fc3 = nn.Linear(512, config['num_classes'])        \n",
    "        \n",
    "        \n",
    "    def forward(self, x):  \n",
    "        \n",
    "        x = self.conv1(x)        \n",
    "        x = self.act(x)        \n",
    "        x = self.pool(x)\n",
    "         \n",
    "        x = self.conv2(x)         \n",
    "        x = self.act(x)\n",
    "        x = self.pool(x) \n",
    "         \n",
    "        x = self.conv3(x)\n",
    "        x = self.act(x)\n",
    "        x = self.pool(x)                       \n",
    "                \n",
    "        x = self.flatten(x)        \n",
    "        \n",
    "        x = self.fc1(x)        \n",
    "        x = self.act(x)        \n",
    "        \n",
    "        x = self.fc2(x)\n",
    "        x = self.act(x)        \n",
    "        \n",
    "        x = self.fc3(x)         \n",
    "        \n",
    "        return x\n",
    "\n"
   ]
  },
  {
   "cell_type": "code",
   "execution_count": 13,
   "id": "9f105d5c",
   "metadata": {},
   "outputs": [],
   "source": [
    "model = ExtractorNN(config['input_channels'])"
   ]
  },
  {
   "cell_type": "code",
   "execution_count": 26,
   "id": "adcc984b",
   "metadata": {},
   "outputs": [],
   "source": [
    "loss_model = nn.CrossEntropyLoss()\n",
    "optimizer = torch.optim.Adam(model.parameters(), lr=0.001)\n",
    "\n"
   ]
  },
  {
   "cell_type": "code",
   "execution_count": 27,
   "id": "1363e7a5",
   "metadata": {},
   "outputs": [],
   "source": [
    "train_loss = []\n",
    "train_acc = []\n",
    "val_loss =[]\n",
    "val_acc = []"
   ]
  },
  {
   "cell_type": "code",
   "execution_count": null,
   "id": "8215106a",
   "metadata": {},
   "outputs": [
    {
     "name": "stderr",
     "output_type": "stream",
     "text": [
      "                                                                                                                       \r"
     ]
    },
    {
     "name": "stdout",
     "output_type": "stream",
     "text": [
      "Epoch [1/1000], train_loss= 7.0399, train_acc= 0.0070, val_loss= 6.7769, val_acc= 0.0070\n"
     ]
    },
    {
     "name": "stderr",
     "output_type": "stream",
     "text": [
      "                                                                                                                       \r"
     ]
    },
    {
     "name": "stdout",
     "output_type": "stream",
     "text": [
      "Epoch [2/1000], train_loss= 6.8071, train_acc= 0.0055, val_loss= 6.7446, val_acc= 0.0076\n"
     ]
    },
    {
     "name": "stderr",
     "output_type": "stream",
     "text": [
      "                                                                                                                       \r"
     ]
    },
    {
     "name": "stdout",
     "output_type": "stream",
     "text": [
      "Epoch [3/1000], train_loss= 6.7895, train_acc= 0.0064, val_loss= 6.7289, val_acc= 0.0076\n"
     ]
    },
    {
     "name": "stderr",
     "output_type": "stream",
     "text": [
      "                                                                                                                       \r"
     ]
    },
    {
     "name": "stdout",
     "output_type": "stream",
     "text": [
      "Epoch [4/1000], train_loss= 6.7988, train_acc= 0.0064, val_loss= 6.7313, val_acc= 0.0074\n"
     ]
    },
    {
     "name": "stderr",
     "output_type": "stream",
     "text": [
      "                                                                                                                       \r"
     ]
    },
    {
     "name": "stdout",
     "output_type": "stream",
     "text": [
      "Epoch [5/1000], train_loss= 6.7691, train_acc= 0.0062, val_loss= 6.7406, val_acc= 0.0076\n"
     ]
    },
    {
     "name": "stderr",
     "output_type": "stream",
     "text": [
      "                                                                                                                       \r"
     ]
    },
    {
     "name": "stdout",
     "output_type": "stream",
     "text": [
      "Epoch [6/1000], train_loss= 6.7691, train_acc= 0.0078, val_loss= 6.7202, val_acc= 0.0074\n"
     ]
    },
    {
     "name": "stderr",
     "output_type": "stream",
     "text": [
      "                                                                                                                       \r"
     ]
    },
    {
     "name": "stdout",
     "output_type": "stream",
     "text": [
      "Epoch [7/1000], train_loss= 6.7639, train_acc= 0.0057, val_loss= 6.7259, val_acc= 0.0074\n"
     ]
    },
    {
     "name": "stderr",
     "output_type": "stream",
     "text": [
      "                                                                                                                       \r"
     ]
    },
    {
     "name": "stdout",
     "output_type": "stream",
     "text": [
      "Epoch [8/1000], train_loss= 6.7592, train_acc= 0.0072, val_loss= 6.7233, val_acc= 0.0076\n"
     ]
    },
    {
     "name": "stderr",
     "output_type": "stream",
     "text": [
      "Epoch [9/100], train_loss= 6.7515:  72%|███████████████████████████████▋            | 850/1179 [01:32<00:34,  9.47it/s]"
     ]
    }
   ],
   "source": [
    "for epoch in range(config['total_epochs']):\n",
    "    model.train()\n",
    "    running_train_loss = []\n",
    "    true_answers = 0\n",
    "    train_loop = tqdm(train_loader, leave=False)\n",
    "    for x, targets in train_loop:    \n",
    "        \n",
    "         \n",
    "        targets = targets.reshape(-1).to(torch.int32)\n",
    "        targets = torch.eye(config['num_classes'])[targets]\n",
    "        \n",
    "        pred = model(x)\n",
    "        loss = loss_model(pred, targets)\n",
    "        \n",
    "        optimizer.zero_grad()\n",
    "        loss.backward()\n",
    "        \n",
    "        optimizer.step()\n",
    "        running_train_loss.append(loss.item())\n",
    "        mean_train_loss = sum(running_train_loss)/len(running_train_loss)\n",
    "        \n",
    "        true_answers += (pred.argmax(dim=1) == targets.argmax(dim=1)).sum().item()\n",
    "        \n",
    "        train_loop.set_description(f'Epoch [{epoch+1}/{100}], train_loss={mean_train_loss: .4f}')\n",
    "        \n",
    "    running_train_acc = true_answers/len(train_data)\n",
    "    \n",
    "    train_loss.append(mean_train_loss)\n",
    "    train_acc.append(running_train_acc)\n",
    "    \n",
    "    \n",
    "    model.eval()\n",
    "    with torch.no_grad():\n",
    "        running_val_loss = []\n",
    "        true_answers = 0\n",
    "        for x, targets in train_loader:             \n",
    "            \n",
    "            targets = targets.reshape(-1).to(torch.int32)\n",
    "            targets = torch.eye(config['num_classes'])[targets]\n",
    "            pred = model(x)\n",
    "            loss = loss_model(pred, targets)\n",
    "        \n",
    "            running_val_loss.append(loss.item())\n",
    "            mean_val_loss = sum(running_val_loss)/len(running_val_loss)\n",
    "        \n",
    "            true_answers += (pred.argmax(dim=1) == targets.argmax(dim=1)).sum().item()\n",
    "        \n",
    "    running_val_acc = true_answers/len(train_data)\n",
    "    \n",
    "    val_loss.append(mean_val_loss)\n",
    "    val_acc.append(running_val_acc)\n",
    "    \n",
    "    print(f'Epoch [{epoch+1}/{1000}], train_loss={mean_train_loss: .4f}, train_acc={running_train_acc: .4f}, val_loss={mean_val_loss: .4f}, val_acc={running_val_acc: .4f}')\n",
    "    "
   ]
  },
  {
   "cell_type": "code",
   "execution_count": 5,
   "id": "415b4cf8",
   "metadata": {},
   "outputs": [
    {
     "ename": "NameError",
     "evalue": "name 'train_loss' is not defined",
     "output_type": "error",
     "traceback": [
      "\u001b[1;31m---------------------------------------------------------------------------\u001b[0m",
      "\u001b[1;31mNameError\u001b[0m                                 Traceback (most recent call last)",
      "Cell \u001b[1;32mIn[5], line 1\u001b[0m\n\u001b[1;32m----> 1\u001b[0m plt\u001b[38;5;241m.\u001b[39mplot(train_loss)\n\u001b[0;32m      2\u001b[0m plt\u001b[38;5;241m.\u001b[39mplot(val_loss)\n\u001b[0;32m      3\u001b[0m plt\u001b[38;5;241m.\u001b[39mlegend([\u001b[38;5;124m'\u001b[39m\u001b[38;5;124mloss_train\u001b[39m\u001b[38;5;124m'\u001b[39m, \u001b[38;5;124m'\u001b[39m\u001b[38;5;124mloss_val\u001b[39m\u001b[38;5;124m'\u001b[39m])\n",
      "\u001b[1;31mNameError\u001b[0m: name 'train_loss' is not defined"
     ]
    }
   ],
   "source": [
    "plt.plot(train_loss)\n",
    "plt.plot(val_loss)\n",
    "plt.legend(['loss_train', 'loss_val'])\n",
    "plt.show()\n"
   ]
  },
  {
   "cell_type": "code",
   "execution_count": 202,
   "id": "12c88e98",
   "metadata": {},
   "outputs": [
    {
     "data": {
      "image/png": "[encoded data removed]",
      "text/plain": [
       "<Figure size 640x480 with 1 Axes>"
      ]
     },
     "metadata": {},
     "output_type": "display_data"
    }
   ],
   "source": [
    "plt.plot(train_acc)\n",
    "plt.plot(val_acc)\n",
    "plt.legend(['acc_train', 'acc_val'])\n",
    "plt.show()"
   ]
  },
  {
   "cell_type": "code",
   "execution_count": 14,
   "id": "ba923d4d",
   "metadata": {},
   "outputs": [],
   "source": [
    "class Extractor:\n",
    "    def __init__(self, model):\n",
    "        self.model = model\n",
    "\n",
    "    def transform_image(self, image_path):\n",
    "        transform = transforms.Compose([transforms.Resize((128, 128)),transforms.ToTensor(),transforms.Grayscale(),])\n",
    "        \n",
    "        image = transform(Image.open(image_path))\n",
    "     \n",
    "        image = image.unsqueeze(0)\n",
    "        return image\n",
    "         \n",
    "         \n",
    "    def get_features(self, image_path):\n",
    "        image = self.transform_image(image_path)    \n",
    "        \n",
    "        features = model(image)         \n",
    "        return features\n",
    " \n",
    " "
   ]
  },
  {
   "cell_type": "code",
   "execution_count": 16,
   "id": "3c12b9f2",
   "metadata": {},
   "outputs": [
    {
     "name": "stdout",
     "output_type": "stream",
     "text": [
      "tensor([[-0.0896,  0.0099, -0.0173,  ...,  0.0542, -0.0383,  0.0077]],\n",
      "       grad_fn=<AddmmBackward0>)\n"
     ]
    }
   ],
   "source": [
    "extractor = Extractor(model)\n",
    "print(extractor.get_features('0.jpg'))"
   ]
  },
  {
   "cell_type": "code",
   "execution_count": 270,
   "id": "4a342b62",
   "metadata": {},
   "outputs": [],
   "source": [
    " \n",
    "def similarity_score(vector1, vector2):   \n",
    "    \n",
    "     \n",
    "    euclidean_dist = torch.norm(vector1 - vector2, p=2)\n",
    " \n",
    "    similarity = torch.exp(-euclidean_dist)\n",
    "    \n",
    "    return similarity \n"
   ]
  },
  {
   "cell_type": "code",
   "execution_count": 241,
   "id": "12908c74",
   "metadata": {},
   "outputs": [
    {
     "name": "stdout",
     "output_type": "stream",
     "text": [
      "tensor(1.)\n"
     ]
    }
   ],
   "source": [
    "print(similarity_score(features1, features2))"
   ]
  },
  {
   "cell_type": "code",
   "execution_count": null,
   "id": "fc96d3b7",
   "metadata": {},
   "outputs": [],
   "source": []
  },
  {
   "cell_type": "code",
   "execution_count": null,
   "id": "8c14302a",
   "metadata": {},
   "outputs": [],
   "source": []
  }
 ],
 "metadata": {
  "kernelspec": {
   "display_name": "Python 3 (ipykernel)",
   "language": "python",
   "name": "python3"
  },
  "language_info": {
   "codemirror_mode": {
    "name": "ipython",
    "version": 3
   },
   "file_extension": ".py",
   "mimetype": "text/x-python",
   "name": "python",
   "nbconvert_exporter": "python",
   "pygments_lexer": "ipython3",
   "version": "3.11.5"
  }
 },
 "nbformat": 4,
 "nbformat_minor": 5
}
